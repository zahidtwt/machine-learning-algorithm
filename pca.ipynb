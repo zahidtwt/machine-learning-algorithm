{
 "cells": [
  {
   "cell_type": "code",
   "execution_count": 8,
   "metadata": {},
   "outputs": [],
   "source": [
    "import numpy as np\n",
    "import pandas as pd\n",
    "from sklearn.model_selection import train_test_split\n",
    "from feature_scaling import pretreat\n",
    "from performance_metrics import calculate_metrics\n",
    "from sklearn.linear_model import LogisticRegression\n",
    "from sklearn.tree import DecisionTreeClassifier\n",
    "from sklearn.model_selection import KFold\n",
    "from sklearn.cross_decomposition import PLSRegression\n",
    "from sklearn.decomposition import PCA"
   ]
  },
  {
   "cell_type": "code",
   "execution_count": 2,
   "metadata": {},
   "outputs": [],
   "source": [
    "\n",
    "def plsnipals(X, Y, A):\n",
    "    # Initialize variables\n",
    "    n, p = X.shape\n",
    "    m = Y.shape[1]\n",
    "    W = np.zeros((p, A))\n",
    "    T = np.zeros((n, A))\n",
    "    P = np.zeros((p, A))\n",
    "    Q = np.zeros((m, A))\n",
    "\n",
    "    varX = np.sum(np.sum(X**2))\n",
    "    varY = np.sum(np.sum(Y**2))\n",
    "\n",
    "    R2X = np.zeros(A)\n",
    "    R2Y = np.zeros(A)\n",
    "\n",
    "    # NIPALS algorithm\n",
    "    for i in range(A):\n",
    "        error = 1\n",
    "        u = Y[:, 0]\n",
    "        niter = 0\n",
    "        while error > 1e-8 and niter < 1000:\n",
    "            w = np.dot(X.T, u) / np.dot(u.T, u)\n",
    "            w = w / np.linalg.norm(w)\n",
    "            t = np.dot(X, w)\n",
    "            q = np.dot(Y.T, t) / np.dot(t.T, t)\n",
    "            u1 = np.dot(Y, q) / np.dot(q.T, q)\n",
    "            error = np.linalg.norm(u1 - u) / np.linalg.norm(u)\n",
    "            u = u1\n",
    "            niter += 1\n",
    "\n",
    "        p = np.dot(X.T, t) / np.dot(t.T, t)\n",
    "        X = X - np.outer(t, p)\n",
    "        Y = Y - np.outer(t, q)\n",
    "\n",
    "        # Store variables\n",
    "        W[:, i] = w\n",
    "        T[:, i] = t\n",
    "        P[:, i] = p\n",
    "        Q[:, i] = q\n",
    "\n",
    "    R2X = np.diag(np.dot(np.dot(T.T, T), np.dot(P.T, P))) / varX\n",
    "    R2Y = np.diag(np.dot(np.dot(T.T, T), np.dot(Q.T, Q))) / varY\n",
    "\n",
    "    # Calculate B and Wstar\n",
    "    Wstar = np.dot(W, np.linalg.inv(np.dot(P.T, W)))\n",
    "    B = np.dot(Wstar, Q.T)\n",
    "    Q = Q.T\n",
    "\n",
    "    return B, Wstar, T, P, Q, W, R2X, R2Y\n"
   ]
  },
  {
   "cell_type": "code",
   "execution_count": 3,
   "metadata": {},
   "outputs": [],
   "source": [
    "heart_data = pd.read_csv('./dataset/heart.csv')\n",
    "iris_data = pd.read_csv('./dataset/iris.csv')\n",
    "wine_data = pd.read_csv('./dataset/winequality-combined.csv')\n",
    "\n",
    "iris_data.rename(columns={'Species': 'target'}, inplace=True)\n",
    "wine_data.rename(columns={'quality': 'target'}, inplace=True)\n",
    "\n",
    "heart_data.name = 'heart data'\n",
    "iris_data.name = 'iris data'\n",
    "wine_data.name = 'wine data'\n",
    "\n",
    "iris_data.drop(columns=['Id'], inplace=True)\n",
    "iris_data['target'] = iris_data['target'].map({'Iris-setosa': 0, 'Iris-versicolor': 1, 'Iris-virginica': 2}).astype('float64')\n",
    "wine_data['target'] = wine_data['target'].map({3: 0, 4: 1, 5: 2, 6: 3, 7: 4, 8: 5}).astype('float64')\n",
    "\n",
    "heart_data.dropna(inplace=True)\n",
    "iris_data.dropna(inplace=True)\n",
    "wine_data.dropna(inplace=True)\n"
   ]
  },
  {
   "cell_type": "code",
   "execution_count": 4,
   "metadata": {},
   "outputs": [],
   "source": [
    "# X = wine_data.drop(columns=['target']).values\n",
    "# y = wine_data['target'].values\n",
    "\n",
    "X = heart_data.drop(columns=['target']).values\n",
    "y = heart_data['target'].values\n",
    "\n",
    "# X_train, X_test, y_train, y_test = train_test_split(X, y, test_size=0.35, random_state=42)\n",
    "X_train = X\n",
    "y_train = y\n",
    "\n",
    "# X_train = pretreat(X_train)"
   ]
  },
  {
   "cell_type": "code",
   "execution_count": 6,
   "metadata": {},
   "outputs": [],
   "source": [
    "y_train_matrix = y_train.reshape(-1, 1)\n",
    "X_train_pretreated = pretreat(X_train)\n",
    "B, Wstar, T, P, Q, W, R2X, R2Y = plsnipals(X_train_pretreated, X_train_pretreated, 5)\n",
    "\n",
    "X_train_transformed = X_train_pretreated @ Wstar"
   ]
  },
  {
   "cell_type": "code",
   "execution_count": 7,
   "metadata": {},
   "outputs": [
    {
     "data": {
      "text/plain": [
       "array([[-0.52255556, -1.1128032 , -0.95681529,  1.14919812,  0.55925213],\n",
       "       [ 2.59038087, -0.53316171, -1.46731519, -1.53661342, -1.34533498],\n",
       "       [ 3.04235194, -1.32752065,  0.42476454, -1.56720367, -0.28381334],\n",
       "       ...,\n",
       "       [ 1.24507315, -1.45735643,  0.47387354,  0.64524015,  0.2711963 ],\n",
       "       [-1.62005298,  0.1244435 ,  1.32795627,  1.19680354,  0.22491269],\n",
       "       [ 0.93416858, -1.77854873,  0.00588158, -0.35337225,  0.7433809 ]])"
      ]
     },
     "execution_count": 7,
     "metadata": {},
     "output_type": "execute_result"
    }
   ],
   "source": [
    "X_train_transformed"
   ]
  },
  {
   "cell_type": "code",
   "execution_count": 9,
   "metadata": {},
   "outputs": [],
   "source": [
    "principal=PCA(n_components=5)"
   ]
  },
  {
   "cell_type": "code",
   "execution_count": 10,
   "metadata": {},
   "outputs": [
    {
     "data": {
      "text/plain": [
       "array([[-0.52255555, -1.11280319,  0.95681551, -1.14919793, -0.55925188],\n",
       "       [ 2.59038087, -0.53316168,  1.46731492,  1.53661364,  1.34533474],\n",
       "       [ 3.04235195, -1.32752064, -0.42476481,  1.56720359,  0.28381352],\n",
       "       ...,\n",
       "       [ 1.24507316, -1.45735643, -0.4738734 , -0.64524022, -0.27119664],\n",
       "       [-1.62005298,  0.12444348, -1.32795605, -1.19680377, -0.22491296],\n",
       "       [ 0.93416859, -1.77854872, -0.00588162,  0.35337228, -0.7433807 ]])"
      ]
     },
     "execution_count": 10,
     "metadata": {},
     "output_type": "execute_result"
    }
   ],
   "source": [
    "principal.fit(X_train_pretreated)\n",
    "principal.transform(X_train_pretreated)"
   ]
  },
  {
   "cell_type": "code",
   "execution_count": null,
   "metadata": {},
   "outputs": [],
   "source": []
  }
 ],
 "metadata": {
  "kernelspec": {
   "display_name": ".env",
   "language": "python",
   "name": "python3"
  },
  "language_info": {
   "codemirror_mode": {
    "name": "ipython",
    "version": 3
   },
   "file_extension": ".py",
   "mimetype": "text/x-python",
   "name": "python",
   "nbconvert_exporter": "python",
   "pygments_lexer": "ipython3",
   "version": "3.10.0"
  }
 },
 "nbformat": 4,
 "nbformat_minor": 2
}
